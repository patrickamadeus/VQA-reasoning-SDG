{
 "cells": [
  {
   "cell_type": "markdown",
   "id": "5b9c37c2",
   "metadata": {},
   "source": [
    "# Evaluation "
   ]
  },
  {
   "cell_type": "markdown",
   "id": "bbf40363",
   "metadata": {},
   "source": [
    "## Load Config"
   ]
  },
  {
   "cell_type": "code",
   "execution_count": 24,
   "id": "843d78fe",
   "metadata": {},
   "outputs": [],
   "source": [
    "import yaml\n",
    "import torch\n",
    "import numpy as np\n",
    "import random\n",
    "import os\n",
    "from PIL import Image\n",
    "\n",
    "def load_config(config_path,config_name):\n",
    "    with open(os.path.join(config_path, config_name)) as file:\n",
    "        config = yaml.safe_load(file)\n",
    "    return config\n",
    "\n",
    "config = load_config(\"../\",\"config.yaml\")"
   ]
  },
  {
   "cell_type": "markdown",
   "id": "9366f443",
   "metadata": {},
   "source": [
    "## Constants"
   ]
  },
  {
   "cell_type": "code",
   "execution_count": 25,
   "id": "8dd3802e",
   "metadata": {},
   "outputs": [],
   "source": [
    "EVAL_MODEL = config[\"eval\"][\"llava\"][\"model\"]\n",
    "IMG_PATH = config[\"image_path\"]\n",
    "RESULT_JSON_PATH = config[\"eval\"][\"llava\"][\"json_path\"]"
   ]
  },
  {
   "cell_type": "code",
   "execution_count": 26,
   "id": "06138ccb",
   "metadata": {},
   "outputs": [
    {
     "name": "stderr",
     "output_type": "stream",
     "text": [
      "config.json: 100%|██████████| 4.19k/4.19k [00:00<00:00, 16.1MB/s]\n",
      "pytorch_model.bin: 100%|██████████| 605M/605M [01:15<00:00, 7.99MB/s] \n",
      "preprocessor_config.json: 100%|██████████| 316/316 [00:00<00:00, 1.38MB/s]\n",
      "tokenizer_config.json: 100%|██████████| 568/568 [00:00<00:00, 2.52MB/s]\n",
      "vocab.json: 100%|██████████| 862k/862k [00:00<00:00, 3.33MB/s]\n",
      "merges.txt: 100%|██████████| 525k/525k [00:00<00:00, 34.2MB/s]\n",
      "tokenizer.json: 100%|██████████| 2.22M/2.22M [00:01<00:00, 1.75MB/s]\n",
      "special_tokens_map.json: 100%|██████████| 389/389 [00:00<00:00, 2.46MB/s]\n"
     ]
    }
   ],
   "source": [
    "from transformers import CLIPProcessor, CLIPModel\n",
    "\n",
    "model = CLIPModel.from_pretrained(EVAL_MODEL)\n",
    "processor = CLIPProcessor.from_pretrained(EVAL_MODEL)"
   ]
  },
  {
   "cell_type": "code",
   "execution_count": 32,
   "id": "9e02b4a3",
   "metadata": {},
   "outputs": [],
   "source": [
    "import json\n",
    "\n",
    "def unpack_json(json_file_path):\n",
    "    try:\n",
    "        with open(json_file_path, 'r') as file:\n",
    "            data = json.load(file)\n",
    "        return data\n",
    "    except FileNotFoundError:\n",
    "        print(f\"Error: File '{json_file_path}' not found.\")\n",
    "    except json.JSONDecodeError as e:\n",
    "        print(f\"Error decoding JSON in '{json_file_path}': {e}\")\n",
    "    except Exception as e:\n",
    "        print(f\"An unexpected error occurred: {e}\")"
   ]
  },
  {
   "cell_type": "code",
   "execution_count": 33,
   "id": "ea58fdae",
   "metadata": {},
   "outputs": [],
   "source": [
    "unpacked_data = unpack_json(RESULT_JSON_PATH+\"LLaVa_3W_split_003.json\")\n",
    "\n",
    "descriptions = \"<SEP>\".join([i[\"description\"] for i in unpacked_data])"
   ]
  },
  {
   "cell_type": "code",
   "execution_count": 34,
   "id": "7dbd1704",
   "metadata": {},
   "outputs": [],
   "source": [
    "def calculate_score(image_path, text):\n",
    "    # desc\n",
    "    labels = text.split(\"<SEP>\")\n",
    "    labels = [l.strip() for l in labels]\n",
    "    labels = list(filter(None, labels))\n",
    "    if len(labels) == 0:\n",
    "        return dict()\n",
    "    \n",
    "    # load image\n",
    "    image = Image.open(image_path)\n",
    "    inputs = processor(text=labels, images=image, return_tensors=\"pt\", padding=True)\n",
    "    outputs = model(**inputs)\n",
    "    logits_per_image = outputs.logits_per_image.detach().numpy()\n",
    "\n",
    "    results_dict = {\n",
    "        label: score / 100.0 for label, score in zip(labels, logits_per_image[0])\n",
    "    }\n",
    "    return dict(sorted(results_dict.items(), key=lambda item: item[1], reverse=True))\n",
    "#     return results_dict"
   ]
  },
  {
   "cell_type": "code",
   "execution_count": 35,
   "id": "1096f037",
   "metadata": {},
   "outputs": [
    {
     "data": {
      "text/plain": [
       "{'The food truck is white and red, and it is parked in front of a monument.': 0.34172752380371096,\n",
       " 'A large group of people is gathered around a food truck, with some of them standing in line to order food.': 0.27247621536254885,\n",
       " 'There are several traffic lights in the area, with one close to the food truck and others scattered around the scene.': 0.2581420135498047,\n",
       " 'A bus is visible in the background, adding to the busy atmosphere of the scene.': 0.25417074203491213,\n",
       " 'The monument is a large stone structure with a statue on top.': 0.2522931671142578,\n",
       " 'A truck is parked further back in the scene, adding to the overall sense of a bustling urban environment.': 0.24343490600585938,\n",
       " 'A bench is located near the monument, providing a place for people to sit and enjoy the view.': 0.22047126770019532,\n",
       " 'The people in the image are of various ages and genders, reflecting the diverse nature of the city.': 0.21911945343017578,\n",
       " 'A person is holding a cell phone, possibly taking a picture or checking for updates.': 0.2150271987915039,\n",
       " 'A bicycle is parked nearby, and a backpack can be seen on the ground.': 0.20025630950927734}"
      ]
     },
     "execution_count": 35,
     "metadata": {},
     "output_type": "execute_result"
    }
   ],
   "source": [
    "calculate_score(IMG_PATH,descriptions)"
   ]
  }
 ],
 "metadata": {
  "kernelspec": {
   "display_name": "Patrick (eval)",
   "language": "python",
   "name": "patrick_eval"
  },
  "language_info": {
   "codemirror_mode": {
    "name": "ipython",
    "version": 3
   },
   "file_extension": ".py",
   "mimetype": "text/x-python",
   "name": "python",
   "nbconvert_exporter": "python",
   "pygments_lexer": "ipython3",
   "version": "3.10.13"
  }
 },
 "nbformat": 4,
 "nbformat_minor": 5
}
