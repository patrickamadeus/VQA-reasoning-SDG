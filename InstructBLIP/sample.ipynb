{
 "cells": [
  {
   "cell_type": "code",
   "execution_count": 1,
   "id": "522f581f",
   "metadata": {},
   "outputs": [
    {
     "name": "stderr",
     "output_type": "stream",
     "text": [
      "/opt/conda/lib/python3.8/site-packages/tqdm/auto.py:22: TqdmWarning: IProgress not found. Please update jupyter and ipywidgets. See https://ipywidgets.readthedocs.io/en/stable/user_install.html\n",
      "  from .autonotebook import tqdm as notebook_tqdm\n"
     ]
    }
   ],
   "source": [
    "# Libraries\n",
    "from transformers import InstructBlipProcessor, InstructBlipForConditionalGeneration\n",
    "import torch\n",
    "from PIL import Image\n",
    "import requests\n",
    "import time\n",
    "\n",
    "# Constants\n",
    "LR_PROMPT_PATH = \"../prompt/list-then-rewrite.txt\"\n",
    "QG_PROMPT_PATH = \"../prompt/question-generation.txt\"\n",
    "\n",
    "with open(LR_PROMPT_PATH, \"r\") as file:\n",
    "    LR_PROMPT= file.read()\n",
    "\n",
    "with open(QG_PROMPT_PATH,\"r\") as file:\n",
    "    QG_PROMPT = file.read()"
   ]
  },
  {
   "cell_type": "code",
   "execution_count": null,
   "id": "8e15ee9a",
   "metadata": {
    "scrolled": true
   },
   "outputs": [
    {
     "name": "stderr",
     "output_type": "stream",
     "text": [
      "Loading checkpoint shards: 100%|██████████| 4/4 [02:26<00:00, 36.71s/it]\n",
      "/opt/conda/lib/python3.8/site-packages/transformers/generation/configuration_utils.py:367: UserWarning: `do_sample` is set to `False`. However, `top_p` is set to `0.9` -- this flag is only used in sample-based generation modes. You should set `do_sample=True` or unset `top_p`.\n",
      "  warnings.warn(\n"
     ]
    }
   ],
   "source": [
    "model = InstructBlipForConditionalGeneration.from_pretrained(\"Salesforce/instructblip-vicuna-7b\")\n",
    "processor = InstructBlipProcessor.from_pretrained(\"Salesforce/instructblip-vicuna-7b\")\n",
    "device = \"cuda\" if torch.cuda.is_available() else \"cpu\"\n",
    "model.to(device)\n",
    "\n",
    "# url = \"https://raw.githubusercontent.com/salesforce/LAVIS/main/docs/_static/Confusing-Pictures.jpg\"\n",
    "# image = Image.open(requests.get(url, stream=True).raw).convert(\"RGB\")\n",
    "imageFile = \"../dataset/003.jpg\"\n",
    "image = Image.open(imageFile)\n",
    "\n",
    "\n",
    "# List-then-Rewrite\n",
    "lr_input = processor(\n",
    "    images=image, \n",
    "    text=LR_PROMPT.format(number = \"10\"), \n",
    "    return_tensors=\"pt\"\n",
    ").to(device)\n",
    "\n",
    "s = time.time()\n",
    "lr_output = model.generate(\n",
    "        **lr_input,\n",
    "        do_sample=False,\n",
    "        num_beams=5,\n",
    "        max_length=256,\n",
    "        min_length=1,\n",
    "        top_p=0.9,\n",
    "        repetition_penalty=1.5,\n",
    "        length_penalty=1.0,\n",
    "        temperature=1,\n",
    ")\n",
    "lr_generated_out = processor.batch_decode(lr_output, skip_special_tokens=True)[0].strip()\n",
    "e = time.time()\n",
    "lr_time = e - s\n",
    "\n",
    "\n",
    "\n",
    "# Question Generation\n",
    "qg_input = processor(\n",
    "    images=image, \n",
    "    text=QG_PROMPT.format(desc = lr_generated_out), \n",
    "    return_tensors=\"pt\"\n",
    ").to(device)\n",
    "\n",
    "s = time.time()\n",
    "qg_output = model.generate(\n",
    "        **qg_input,\n",
    "        do_sample=False,\n",
    "        num_beams=5,\n",
    "        max_length=256,\n",
    "        min_length=1,\n",
    "        top_p=0.9,\n",
    "        repetition_penalty=1.5,\n",
    "        length_penalty=1.0,\n",
    "        temperature=1,\n",
    ")\n",
    "qg_generated_out = processor.batch_decode(qg_output, skip_special_tokens=True)[0].strip()\n",
    "e = time.time()\n",
    "qg_time = e - s"
   ]
  },
  {
   "cell_type": "code",
   "execution_count": null,
   "id": "2804fb15",
   "metadata": {},
   "outputs": [],
   "source": [
    "LR_RESULT_FILENAME = f\"LAV2_LR_result_{imageFile.split('/')[-1].split('.')[0]}.txt\" \n",
    "QG_RESULT_FILENAME = f\"LAV2_QG_result_{imageFile.split('/')[-1].split('.')[0]}.txt\" \n",
    "\n",
    "with open(f\"../result/LLaMa-Adapter-V2/{LR_RESULT_FILENAME}\", \"w\") as file:\n",
    "    # Writing data to a file\n",
    "    file.write(lr_generated_out)\n",
    "    file.write(\"\\n\\n\")\n",
    "    file.write(f\"Processing time : {lr_time}s\")\n",
    "\n",
    "with open(f\"../result/LLaMa-Adapter-V2/{QG_RESULT_FILENAME}\", \"w\") as file:\n",
    "    # Writing data to a file\n",
    "    file.write(qg_generated_out)\n",
    "    file.write(\"\\n\\n\")\n",
    "    file.write(f\"Processing time : {qg_time}s\")"
   ]
  }
 ],
 "metadata": {
  "kernelspec": {
   "display_name": "Patrick (InstructBLIP)",
   "language": "python",
   "name": "patrick_instruct_blip"
  },
  "language_info": {
   "codemirror_mode": {
    "name": "ipython",
    "version": 3
   },
   "file_extension": ".py",
   "mimetype": "text/x-python",
   "name": "python",
   "nbconvert_exporter": "python",
   "pygments_lexer": "ipython3",
   "version": "3.8.13"
  }
 },
 "nbformat": 4,
 "nbformat_minor": 5
}
