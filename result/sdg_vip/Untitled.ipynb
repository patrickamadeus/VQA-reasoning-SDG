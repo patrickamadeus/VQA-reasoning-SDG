{
 "cells": [
  {
   "cell_type": "code",
   "execution_count": null,
   "id": "6ccd2d73",
   "metadata": {},
   "outputs": [],
   "source": [
    "import json\n",
    "\n",
    "# Specify the path to your JSON file\n",
    "file_path = 'res.json'\n",
    "# Open the file and load its contents\n",
    "with open(file_path, 'r') as file:\n",
    "    data = json.load(file)\n",
    "\n",
    "# Now 'data' contains the content of the JSON file as a Python data structure\n",
    "# You can access the data and work with it as needed\n",
    "print(data)\n"
   ]
  },
  {
   "cell_type": "code",
   "execution_count": 4,
   "id": "a5716e7c",
   "metadata": {},
   "outputs": [
    {
     "name": "stdout",
     "output_type": "stream",
     "text": [
      "75\n"
     ]
    }
   ],
   "source": [
    "new_data = []\n",
    "for d in data:\n",
    "    d[\"img_id\"] += \".jpg\"\n",
    "    new_data.append(d)\n",
    "print(len(new_data))"
   ]
  },
  {
   "cell_type": "code",
   "execution_count": 8,
   "id": "06122c43",
   "metadata": {},
   "outputs": [],
   "source": [
    "with open(file_path, 'w') as output_file:\n",
    "    json.dump(new_data, output_file, indent=2)"
   ]
  }
 ],
 "metadata": {
  "kernelspec": {
   "display_name": "Patrick (Mistral)",
   "language": "python",
   "name": "mistral_env"
  },
  "language_info": {
   "codemirror_mode": {
    "name": "ipython",
    "version": 3
   },
   "file_extension": ".py",
   "mimetype": "text/x-python",
   "name": "python",
   "nbconvert_exporter": "python",
   "pygments_lexer": "ipython3",
   "version": "3.10.13"
  }
 },
 "nbformat": 4,
 "nbformat_minor": 5
}
